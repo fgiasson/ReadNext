{
 "cells": [
  {
   "cell_type": "markdown",
   "metadata": {},
   "source": [
    "# main\n",
    "\n",
    "> Entry point of the ReadNext command line tool"
   ]
  },
  {
   "cell_type": "code",
   "execution_count": null,
   "metadata": {},
   "outputs": [],
   "source": [
    "#| default_exp main"
   ]
  },
  {
   "cell_type": "markdown",
   "metadata": {},
   "source": [
    "## Imports\n",
    "\n",
    "The command line interface is using [typer](https://typer.tiangolo.com/), a library to build command line interfaces. We also use [arxiv](https://github.com/lukasschwab/arxiv.py) to query their search service to display the articles' titles from the list of IDs proposed by the system.\n",
    "\n",
    "Otherwise, we import all the internal modules of the project used to implement the different commands of the CLI."
   ]
  },
  {
   "cell_type": "code",
   "execution_count": null,
   "metadata": {},
   "outputs": [],
   "source": [
    "#| exports\n",
    "\n",
    "import arxiv\n",
    "import chromadb\n",
    "import os\n",
    "import typer\n",
    "from dotenv import load_dotenv\n",
    "from readnext import __version__\n",
    "from readnext.arxiv_categories import exists, main, sub\n",
    "from readnext.arxiv_sync import sync_arxiv\n",
    "from readnext.embedding import embed_category_papers, download_embedding_model, embedding_system\n",
    "from readnext.personalize import get_personalized_papers, save_personalized_papers_in_zotero\n",
    "from rich import print\n",
    "from typing_extensions import Annotated"
   ]
  },
  {
   "cell_type": "markdown",
   "metadata": {},
   "source": [
    "## Command line interface"
   ]
  },
  {
   "cell_type": "code",
   "execution_count": null,
   "metadata": {},
   "outputs": [],
   "source": [
    "#| export\n",
    "\n",
    "app = typer.Typer()"
   ]
  },
  {
   "cell_type": "markdown",
   "metadata": {},
   "source": [
    "### version\n",
    "\n",
    "The `version` command displays the current installed version of ReadNext."
   ]
  },
  {
   "cell_type": "code",
   "execution_count": null,
   "metadata": {},
   "outputs": [],
   "source": [
    "#| export\n",
    "\n",
    "@app.command()\n",
    "def version():\n",
    "    \"\"\"Get the current installed version of ReadNext\"\"\"\n",
    "    print(f\"Version: {__version__}\")"
   ]
  },
  {
   "cell_type": "markdown",
   "metadata": {},
   "source": [
    "You can get the version number of the ReadNext instance installed of your machine by running:\n",
    "\n",
    "```bash\n",
    "readnext version\n",
    "```"
   ]
  },
  {
   "cell_type": "markdown",
   "metadata": {},
   "source": [
    "### Configuration\n",
    "\n",
    "Display the current configuration of ReadNext."
   ]
  },
  {
   "cell_type": "code",
   "execution_count": null,
   "metadata": {},
   "outputs": [],
   "source": [
    "#| export\n",
    "\n",
    "@app.command()\n",
    "def config():\n",
    "    \"\"\"Get the current configuration of ReadNext\"\"\"\n",
    "    print(f\"DOCS_PATH: {os.environ.get('DOCS_PATH')}\")\n",
    "    print(f\"RECOMMENDATIONS_PATH: {os.environ.get('RECOMMENDATIONS_PATH')}\")\n",
    "    print(f\"CHROMA_DB_PATH: {os.environ.get('CHROMA_DB_PATH')}\")\n",
    "    print(f\"MODELS_PATH: {os.environ.get('MODELS_PATH')}\")\n",
    "    print(f\"EMBEDDING_SYSTEM: {os.environ.get('EMBEDDING_SYSTEM')}\")\n",
    "    print(f\"ZOTERO_LIBRARY_TYPE: {os.environ.get('ZOTERO_LIBRARY_TYPE')}\")\n",
    "    print(f\"ZOTERO_API_KEY: {os.environ.get('ZOTERO_API_KEY')}\")\n",
    "    print(f\"ZOTERO_LIBRARY_ID: {os.environ.get('ZOTERO_LIBRARY_ID')}\")\n",
    "    print(f\"COHERE_API_KEY: {os.environ.get('COHERE_API_KEY')}\")"
   ]
  },
  {
   "cell_type": "markdown",
   "metadata": {},
   "source": [
    "You can display the current configuration uptions picked-up by ReadNext by running:\n",
    "\n",
    "```bash\n",
    "readnext config\n",
    "```"
   ]
  },
  {
   "cell_type": "markdown",
   "metadata": {},
   "source": [
    "### arxiv-top-categories\n",
    "\n",
    "The `arxiv-top-categories` command displays the complete list of ArXiv top categories. Note that the categories' keys are case sensitive."
   ]
  },
  {
   "cell_type": "code",
   "execution_count": null,
   "metadata": {},
   "outputs": [],
   "source": [
    "#| export\n",
    "\n",
    "@app.command()\n",
    "def arxiv_top_categories():\n",
    "    \"Display ArXiv main categories. Keys are case sensitive.\"\n",
    "    print(main)"
   ]
  },
  {
   "cell_type": "markdown",
   "metadata": {},
   "source": [
    "You can get the list of all the top categories by using this command line:\n",
    "\n",
    "```bash \n",
    "readnext arxiv-top-categories\n",
    "```"
   ]
  },
  {
   "cell_type": "markdown",
   "metadata": {},
   "source": [
    "### arxiv-sub-categories\n",
    "\n",
    "The `arxiv-sub-categories` command displays the complete list of ArXiv sub categories. Note that the categories' keys are case sensitive.\n",
    "\n",
    "The arxiv sub categories are:"
   ]
  },
  {
   "cell_type": "code",
   "execution_count": null,
   "metadata": {},
   "outputs": [],
   "source": [
    "#| default_exp main\n",
    "#| export\n",
    "\n",
    "@app.command()\n",
    "def arxiv_sub_categories():\n",
    "    \"Display ArXiv sub categories. Keys are case sensitive.\"\n",
    "    print(sub)"
   ]
  },
  {
   "cell_type": "markdown",
   "metadata": {},
   "source": [
    "You can get the list of all the sub categories by using this command line:\n",
    "\n",
    "```bash \n",
    "readnext arxiv-sub-categories\n",
    "```"
   ]
  },
  {
   "cell_type": "markdown",
   "metadata": {},
   "source": [
    "## personalized-papers\n",
    "\n",
    "The `personalized-papers` command gives a list of personalized papers based on the user's current research focus. That command has two required parameters and three optional:\n",
    "\n",
    " - `category` _[required]_ : the ArXiv category to use to query the ArXiv search service. It can be a top or sub category, case sentitive.\n",
    " - `focus_collection` _[required]_ : the name of the Zotero collection where all the user's papers of interest are available for ReadNext.\n",
    " - `proposals_collection` _[default: \"\"]_ : the name of the Zotero collection where the papers proposed by ReadNext will be added.\n",
    " - `with_artifacts` _[default: False]_ : if set to `True`, the artifacts related to the proposed papers (PDF & summary files) will be added to Zotero.\n",
    " - `nb_proposals` _[default: 10]_ : the number of papers that will be proposed by ReadNext.\n",
    "\n",
    "To get new papers proposals, you have to run the `personalized-papers` command. That command requires two arguments:\n",
    "\n",
    " - `category` _[required]_ : the arXiv top, or sub, category from which you want to get new papers proposals\n",
    " - `zotero_collection` _[required]_ : the name of the Zotero collection where your papers of interest are stored in Zotero. This is what we refer to as the \"Focus\" collection above. The name of the collection is case sensitive and should be exactly as written in Zotero.\n",
    "\n",
    "Then you also have three options available:\n",
    "\n",
    " - `--proposals-collection` _[default: \"\"]_ : which tells ReadNext that you want to save the proposed papers in Zotero, in the Zotero Collection specified by the argument. If you don't use this option, ReadNext will only print the proposed papers in the terminal, but will not save them in Zotero. The default behaviour is that you don't save them in Zotero.\n",
    " - `--with-artifacts` / `-a` _[default: False]_ : which tells ReadNext that you want to save the artifacts (PDF file of the papers and their summarization) into Zotero. This is the recommended workflow, but it requires a lot more space in your Zotero account. If you want to do this, you will most likely need to subscribe to one of their paid option.\n",
    " - `--nb-proposals` _[default: 10]_ : which tells ReadNext how many papers you want to be proposed.\n",
    "\n",
    "The following command will propose 3 papers from the `cs.AI` caterory, based on the `Readnext-Focus-LLM` collection in my Zotero library, save them in Zotero in the `Readnext-Propositions-LLM` with all related artifacts:\n",
    "\n",
    "```sh\n",
    "readnext personalized-papers cs.AI Readnext-Focus-LLM --proposals-collection=Readnext-Propositions-LLM --with-artifacts --nb-proposals=3\n",
    "```\n",
    "\n",
    "As you can see, you can easily create a series of topics you want papers proposals around, where each of the topic is defined by a series of specific papers that you read and found important for your research.\n"
   ]
  },
  {
   "cell_type": "code",
   "execution_count": null,
   "metadata": {},
   "outputs": [],
   "source": [
    "#| export\n",
    "\n",
    "@app.command()\n",
    "def personalized_papers(category: str, \n",
    "                        focus_collection: str, \n",
    "                        proposals_collection: Annotated[str, \n",
    "                                                        typer.Option(\"--proposals-collection\",\n",
    "                                                        help=\"Save personalized papers in Zotero in target Zotero collection.\")] = \"\", \n",
    "                        with_artifacts: Annotated[bool, \n",
    "                                                  typer.Option(\"--with-artifacts\", \n",
    "                                                               \"-a\",\n",
    "                                                               help=\"Add paper artifacts (PDFs & summary files) to Zotero when saving.\")] = False,                                                               \n",
    "                        nb_proposals=10):\n",
    "    \"\"\"Get personalized papers of a `focus-collection` from an ArXiv `category`. \n",
    "    If the category is `all` then all categories that have been locally synced will be used.\n",
    "    if --proposals-collection is set, then the papers will be uploaded to the \n",
    "    that Zotero collection, otherwise it will only be displayed to the command line.\n",
    "    \"\"\"\n",
    "\n",
    "    # Step 1: Make sure the category exists\n",
    "    if exists(category):\n",
    "        # Step 2: get today's list of papers from arXiv\n",
    "        print(\"[green]Syncing today's ArXiv latest papers...[/green]\")\n",
    "        sync_arxiv(category)\n",
    "\n",
    "        # Step 3: create embeddings for each of those new papers\n",
    "        print(\"[green]Creating embeddings for each new paper...[/green]\")\n",
    "        embed_category_papers(category)\n",
    "\n",
    "        # Step 4: get personalized papers\n",
    "        print(\"[green]Get personalized papers...[/green]\")\n",
    "        ids = get_personalized_papers(category, focus_collection, nb_proposals)\n",
    "\n",
    "        # Step 5: save personalized papers in Zotero\n",
    "        if proposals_collection != \"\":\n",
    "            print(\"[green]Saving personalized papers in Zotero...[/green]\")\n",
    "            save_personalized_papers_in_zotero(ids, proposals_collection, with_artifacts)\n",
    "\n",
    "        # Step 6: display personalized papers to the command line\n",
    "        search = arxiv.Search(id_list=ids.keys())\n",
    "\n",
    "        for index, result in enumerate(search.results()):\n",
    "            print(str(index + 1) + '. [italic yellow][' + list(ids.values())[index] + '][/italic yellow]  [blue][link=' + str(result) + ']' + result.title + '[/link][/blue]')\n",
    "    else:\n",
    "        print(\"[bold red]Error:[/bold red] [italic red]ArXiv category, or sub-category ID non existing.[/italic red] Please specify a valid category ID.\")\n",
    "\n"
   ]
  },
  {
   "cell_type": "markdown",
   "metadata": {},
   "source": [
    "## Initialize\n",
    "\n",
    "Before running the command line application, we have to make sure that the tool is properly initialized. The current initialization steps that are required are:\n",
    "\n",
    "  1. Load environment variables\n",
    "  2. Make sure that all the configuration options are properly set as environment variables.\n",
    "  3. Check that all the required local models artifacts are available on the local file system. If not, download them from their source."
   ]
  },
  {
   "cell_type": "code",
   "execution_count": null,
   "metadata": {},
   "outputs": [],
   "source": [
    "#| export\n",
    "\n",
    "def config_exists(env_var: str):\n",
    "    \"\"\"Check if `env_var` environment variable exists\"\"\"\n",
    "    v = env_var.upper()\n",
    "    if not os.environ.get(v) or os.environ.get(v) == '':\n",
    "        print(\"[bold red]Error:[/bold red] [italic red]Configuration option not set.[/italic red] [yellow]Please set the [bold]\" + v + \"[/bold] environment variable.[/yellow]\\n\")\n",
    "\n",
    "def config_check_one_exists(env_vars: list):\n",
    "    \"\"\"Check if one of the `env_vars` environment variables exists\"\"\"\n",
    "    for env_var in env_vars:\n",
    "        if os.environ.get(env_var.upper()):\n",
    "            return True\n",
    "    print(\"[bold red]Error:[/bold red] [italic red]Configuration option not set.[/italic red] [yellow]Please set one of those [bold]\" + repr(env_vars) + \"[/bold] environment variables.[/yellow]\\n\")"
   ]
  },
  {
   "cell_type": "markdown",
   "metadata": {},
   "source": [
    "One thing that needs to be validated at initialization time is the shape of the embeddings in ChromaDB. If the user changed the setting `EMBEDDING_SYSTEM` from one system to another, then most likely that the number of dimentions will be different. If it is the case, then Chroma won't be able to load the embeddings with a different dimention. This is why we have to warn the user.\n"
   ]
  },
  {
   "cell_type": "code",
   "execution_count": null,
   "metadata": {},
   "outputs": [],
   "source": [
    "#| export\n",
    "\n",
    "def get_embeddings_dimensions(chroma_client, category: str):\n",
    "    \"\"\"Get the embedding dimensions of the given `category`\"\"\"\n",
    "    return len(chroma_client.get_collection(category).peek(1)['embeddings'][0])"
   ]
  },
  {
   "cell_type": "code",
   "execution_count": null,
   "metadata": {},
   "outputs": [],
   "source": [
    "#| export\n",
    "\n",
    "def init():\n",
    "    \"\"\"Initialize the application\"\"\"\n",
    "    # load environment variables\n",
    "    load_dotenv()\n",
    "\n",
    "    # check for the existance of all configuration options\n",
    "    config_exists('ZOTERO_API_KEY')\n",
    "    config_exists('ZOTERO_LIBRARY_TYPE')\n",
    "    config_exists('ZOTERO_LIBRARY_ID')\n",
    "    config_exists('EMBEDDING_SYSTEM')\n",
    "    config_exists('DOCS_PATH')\n",
    "    config_exists('RECOMMENDATIONS_PATH')\n",
    "    config_check_one_exists(['COHERE_API_KEY', 'MODELS_PATH'])\n",
    "\n",
    "    chroma_client = chromadb.PersistentClient(path=os.environ.get('CHROMA_DB_PATH'))\n",
    "\n",
    "    # download models if not already downloaded\n",
    "    match embedding_system():\n",
    "        case 'baai-bge-base-en':\n",
    "           config_exists('MODELS_PATH')\n",
    "           download_embedding_model(os.environ.get('MODELS_PATH'), 'BAAI/bge-base-en') \n",
    "        case 'cohere':\n",
    "            config_exists('COHERE_API_KEY')\n",
    "        case other:\n",
    "            print(\"[bold red]Error:[/bold red] [italic red]Configuration option not set.[/italic red] [yellow]Please set the [bold]EMBEDDING_SYSTEM[/bold] environment variable to either [bold]BAAI/bge-base-en[/bold] or [bold]cohere[/bold].[/yellow]\\n\")            "
   ]
  },
  {
   "cell_type": "markdown",
   "metadata": {},
   "source": [
    "## Entry point\n",
    "\n",
    "The entry point of the command line interface, the `typer` application will be called to manage the interaction with the users."
   ]
  },
  {
   "cell_type": "code",
   "execution_count": null,
   "metadata": {},
   "outputs": [],
   "source": [
    "#| export\n",
    "#| eval: false\n",
    "\n",
    "if __name__ == \"__main__\":\n",
    "    init()\n",
    "    app()"
   ]
  }
 ],
 "metadata": {
  "kernelspec": {
   "display_name": "python3",
   "language": "python",
   "name": "python3"
  }
 },
 "nbformat": 4,
 "nbformat_minor": 4
}
