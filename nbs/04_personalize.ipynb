{
 "cells": [
  {
   "cell_type": "markdown",
   "metadata": {},
   "source": [
    "# Personalization\n",
    "\n",
    "> The personalization of arXiv paper is done using a vector search between the latest papers that appears in an arXiv category and the papers that the user is currently focussing on in his research. All those papers exists in a Zotero folder."
   ]
  },
  {
   "cell_type": "code",
   "execution_count": null,
   "metadata": {},
   "outputs": [],
   "source": [
    "#| default_exp personalize"
   ]
  },
  {
   "cell_type": "markdown",
   "metadata": {},
   "source": [
    "## Imports"
   ]
  },
  {
   "cell_type": "code",
   "execution_count": null,
   "metadata": {},
   "outputs": [],
   "source": [
    "#| exports\n",
    "#| output: false\n",
    "import arxiv\n",
    "import chromadb\n",
    "import cohere\n",
    "import os\n",
    "from nameparser import HumanName\n",
    "from pyzotero import zotero\n",
    "from readnext.arxiv_categories import exists\n",
    "from readnext.embedding import pdf_to_text, get_embeddings, embedding_system\n",
    "from rich import print\n",
    "from rich.progress import Progress"
   ]
  },
  {
   "cell_type": "markdown",
   "metadata": {},
   "source": [
    "## Get a Zotero collection ID from its name\n",
    "\n",
    "When interacting with the Zotero API, it is always expecting a collection ID. However, it is very hard to get the ID of that collection from the Zotero user interface. This utility function is used to get the ID of a collection from its name."
   ]
  },
  {
   "cell_type": "code",
   "execution_count": null,
   "metadata": {},
   "outputs": [],
   "source": [
    "#| export\n",
    "\n",
    "def get_collection_id_from_name(collection_name: str) -> str:\n",
    "    \"\"\"Return the ID of a collection from its name. \n",
    "       Return an empty string if no collection's name doesn't exists.\n",
    "       The comparison is case insensitive.\"\"\"\n",
    "    \n",
    "    zot = zotero.Zotero(os.environ.get('ZOTERO_LIBRARY_ID'), os.environ.get('ZOTERO_LIBRARY_TYPE'), os.environ.get('ZOTERO_API_KEY'))\n",
    "\n",
    "    for collection in zot.collections():\n",
    "        if collection['data']['name'].lower() == collection_name.lower():\n",
    "            return collection['key']\n",
    "        \n",
    "    return ''"
   ]
  },
  {
   "cell_type": "markdown",
   "metadata": {},
   "source": [
    "## Get all the items of a Zotero collection name\n",
    "\n",
    "Gets all the items of a Zotero collection from its name. It will reuse the function `get_collection_id_from_name` to get the collection ID from its name. An item can be very broad, those are not just the PDF papers, it could be links to web pages, full text notes, etc."
   ]
  },
  {
   "cell_type": "code",
   "execution_count": null,
   "metadata": {},
   "outputs": [],
   "source": [
    "#| export\n",
    "\n",
    "def get_target_collection_items(collection_name: str):\n",
    "    \"\"\"Given the name of a Zotero collection, return all the items from that collection.\"\"\"\n",
    "    collection = get_collection_id_from_name(collection_name)\n",
    "\n",
    "    if collection != \"\":        \n",
    "        zot = zotero.Zotero(os.environ.get('ZOTERO_LIBRARY_ID'), os.environ.get('ZOTERO_LIBRARY_TYPE'), os.environ.get('ZOTERO_API_KEY'))\n",
    "        return zot.collection_items(collection)\n",
    "    else:\n",
    "        return {}"
   ]
  },
  {
   "cell_type": "markdown",
   "metadata": {},
   "source": [
    "## Create corpus of interests from Zotero collection\n",
    "\n",
    "What we call a \"corpus of interest\" is a Zotero collection that contains all the papers that the user is currently focussing on in his research. This function will create a corpus of interest from a Zotero collection name.\n",
    "\n",
    "This corpus of interest is used to create an \"embedding of interest\" that will be used to select the most relevant papers that are published every day."
   ]
  },
  {
   "cell_type": "code",
   "execution_count": null,
   "metadata": {},
   "outputs": [],
   "source": [
    "#| export\n",
    "\n",
    "def create_interests_corpus(collection_name: str) -> str:\n",
    "    \"\"\"Create a corpus of interests from all the documents\n",
    "    existing in a Zotero collection. This corpus will be used to\n",
    "    match related daily papers published on ArXiv.\"\"\"\n",
    "    interests_corpus = \"\"\n",
    "\n",
    "    for item in get_target_collection_items(collection_name):\n",
    "        if item['data']['itemType'] != 'attachment':\n",
    "            if 'title' in item['data']:\n",
    "                interests_corpus = interests_corpus + ' ' + item['data']['title']\n",
    "            if 'abstractNote' in item['data']:\n",
    "                interests_corpus = interests_corpus + ' ' + item['data']['abstractNote']\n",
    "            interests_corpus = interests_corpus + ' ' + '\\n'\n",
    "    \n",
    "    return interests_corpus"
   ]
  },
  {
   "cell_type": "markdown",
   "metadata": {},
   "source": [
    "## Get personalized papers\n",
    "\n",
    "Query the embeddings space of the input category using the embedding of the corpus of interests. Returns `nb_proposals` more relevant papers."
   ]
  },
  {
   "cell_type": "code",
   "execution_count": null,
   "metadata": {},
   "outputs": [],
   "source": [
    "#| export\n",
    "\n",
    "def get_personalized_papers(category: str, zotero_collection: str, nb_proposals=10) -> dict:\n",
    "    \"\"\"Given a ArXiv category and a Zotero personalization collection. \n",
    "    Returns a dictionary where the keys are the personalized ArXiv IDs, \n",
    "    and the value the distance to the personalization embedding.\"\"\"\n",
    "\n",
    "    chroma_client = chromadb.PersistentClient(path=os.environ.get('CHROMA_DB_PATH'))\n",
    "\n",
    "    ids = {}\n",
    "\n",
    "    if exists(category): \n",
    "        papers_category_collection = chroma_client.get_or_create_collection(name='all' + embedding_system() if category == 'all' else 'arxiv_' + category + '_' + embedding_system())\n",
    "\n",
    "        interesting_papers = papers_category_collection.query(\n",
    "            query_embeddings=get_embeddings(create_interests_corpus(zotero_collection)),\n",
    "            n_results=int(nb_proposals)) # need to force int() to convert when from the command line.\n",
    "\n",
    "        for index, pdf in enumerate(interesting_papers['ids'][0]):\n",
    "            ids[pdf.rstrip('.pdf')] = str(interesting_papers['distances'][0][index]) \n",
    "\n",
    "    return ids"
   ]
  },
  {
   "cell_type": "markdown",
   "metadata": {},
   "source": [
    "## Get the summary of a PDF file\n",
    "\n",
    "In addition, the user may want to have a summary of the paper (other than the abstract written by the author). If it is the case, then the paper's text will be summarized by an external summarization service (currently Cohere) and will return the summary. That summary will then be added as an attachement to the paper's item in Zotero."
   ]
  },
  {
   "cell_type": "code",
   "execution_count": null,
   "metadata": {},
   "outputs": [],
   "source": [
    "#| export\n",
    "\n",
    "def get_pdf_summary(pdf) -> str:\n",
    "    text = pdf_to_text(pdf)\n",
    "\n",
    "    co = cohere.Client(os.environ.get('COHERE_API_KEY'))\n",
    "\n",
    "    res = co.summarize(text[:100000], length='medium')\n",
    "\n",
    "    return res.summary"
   ]
  },
  {
   "cell_type": "markdown",
   "metadata": {},
   "source": [
    "## Check if a given paper is already in the collection of proposed papers\n",
    "\n",
    "This is used to avoid duplicated papers in the Zotero collection, otherwise every time someone run ReadNext, it will duplicate the proposed papers if they were already proposed in the past."
   ]
  },
  {
   "cell_type": "code",
   "execution_count": null,
   "metadata": {},
   "outputs": [],
   "source": [
    "#| export\n",
    "\n",
    "def check_already_in_zotero_proposals(title: str, proposals_collection: str) -> bool:\n",
    "    \"\"\"Check if a paper is already in the proposals collection.\"\"\"\n",
    "    for item in get_target_collection_items(proposals_collection):\n",
    "        if item['data']['itemType'] != 'attachment':\n",
    "            if 'title' in item['data']:\n",
    "                if item['data']['title'] == title:\n",
    "                    return True\n",
    "    \n",
    "    return False"
   ]
  },
  {
   "cell_type": "markdown",
   "metadata": {},
   "source": [
    "## Save all personalized papers in Zotero\n",
    "\n",
    "Save all the personalized papers in Zotero. By default, no artifacts are saved in Zotero. The reason is that users have 200mo free with their account, and that space is taken rapidly if we save artifacts days in days out. However, if the user is paying for more space, then he most likely want to have the artifacts saved in Zotero."
   ]
  },
  {
   "cell_type": "code",
   "execution_count": null,
   "metadata": {},
   "outputs": [],
   "source": [
    "#| export\n",
    "\n",
    "def save_personalized_papers_in_zotero(ids: dict, proposals_collection, with_artifacts: bool):\n",
    "    \"\"\"Get all personalized papers propositions and upload them to the \n",
    "    `proposals_collection` Zotero collection.\n",
    "    \n",
    "    If `with_artifacts=True`, then all documents artifacts will be\n",
    "    uploaded to Zotero as well (namely PDFs and summary documents), \n",
    "    but it will take more space to the Zotero account and will be \n",
    "    slower to process.\"\"\"\n",
    "\n",
    "    zot = zotero.Zotero(os.environ.get('ZOTERO_LIBRARY_ID'), os.environ.get('ZOTERO_LIBRARY_TYPE'), os.environ.get('ZOTERO_API_KEY'))\n",
    "\n",
    "    # get information for each matched articles directly from ArXiv\n",
    "    search = arxiv.Search(id_list=ids.keys())\n",
    "\n",
    "    with Progress() as progress:\n",
    "        task = progress.add_task(\"[cyan]Uploading papers to Zotero...\", total=len(list(search.results())))\n",
    "\n",
    "        for index, result in enumerate(search.results()):\n",
    "            # skip if the paper is already in the proposals collection\n",
    "            if(check_already_in_zotero_proposals(result.title, proposals_collection)):\n",
    "                if not progress.finished:\n",
    "                    progress.update(task, advance=1)\n",
    "                continue\n",
    "\n",
    "            # build the template for the Zotero item\n",
    "            template = zot.item_template('preprint')\n",
    "\n",
    "            template['title'] = result.title\n",
    "\n",
    "            creators = []\n",
    "            for creator in result.authors:\n",
    "                name = HumanName(creator.name)\n",
    "                creators.append({'creatorType': 'author', 'firstName': name.first, 'lastName': name.last})\n",
    "\n",
    "            template['abstractNote'] = result.summary\n",
    "            template['creators'] = creators\n",
    "            template['url'] = result.entry_id\n",
    "            template['DOI'] = result.doi\n",
    "            template['repository'] = 'arXiv'\n",
    "            template['archiveID'] = 'arxiv:' + result.get_short_id()\n",
    "            template['libraryCatalog'] = 'arXiv.org'\n",
    "            template['collections'] = [get_collection_id_from_name(proposals_collection)]\n",
    "\n",
    "            zot.check_items([template])\n",
    "\n",
    "            resp = zot.create_items([template])\n",
    "\n",
    "            if '0' in resp['success']:\n",
    "                if(with_artifacts):\n",
    "                    parentid = resp['success']['0']\n",
    "                    rec_path = os.environ.get('RECOMMENDATIONS_PATH').rstrip('/') + '/';\n",
    "\n",
    "                    if not os.path.exists(rec_path):\n",
    "                        os.makedirs(rec_path)\n",
    "\n",
    "                    paper = next(arxiv.Search(id_list=[result.get_short_id()]).results())\n",
    "                    paper.download_pdf(dirpath=rec_path, filename=result.get_short_id() + '.pdf')\n",
    "\n",
    "                    # create a new text file\n",
    "                    with open(rec_path + result.get_short_id() + '.txt', 'w') as f:\n",
    "                        f.write(get_pdf_summary(rec_path + result.get_short_id() + '.pdf'))\n",
    "                    \n",
    "                    zot.attachment_both([[result.get_short_id() + '.pdf', rec_path + result.get_short_id() + '.pdf'],\n",
    "                                        ['cohere_summary.txt', rec_path + result.get_short_id() + '.txt']], parentid)\n",
    "            else:\n",
    "                print(\"Could not upload paper to Zotero\")\n",
    "            \n",
    "            if not progress.finished:\n",
    "                progress.update(task, advance=1)"
   ]
  }
 ],
 "metadata": {},
 "nbformat": 4,
 "nbformat_minor": 2
}
